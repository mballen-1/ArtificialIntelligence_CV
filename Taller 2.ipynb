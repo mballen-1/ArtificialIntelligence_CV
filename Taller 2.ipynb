{
 "cells": [
  {
   "cell_type": "markdown",
   "metadata": {},
   "source": [
    "# El filtro de Prewitt.\n",
    "\n",
    "Es un filtro que emplea matríces de igual tamaño o kernel con el fin de operar la imagen original en diversas direcciones.\n",
    "\n",
    "## Filtro de dos direcciones\n",
    "Emplea dos matrices cada una representando las aproximaciones de derivadas en las direcciones vertical y horizontal.\n",
    "\n",
    "Es decir, sea Gx = [[1, 0, -1], [1, 0 , -1], [1, 0, -1]] * A ... La operación que aplica el filtro en dirección horizontal.\n",
    "Y, sea Hx = [[-1, -1, -1], [0, 0 , 0], [1, 1, 1]] * A ... La operación que aplica el filtro en dirección vertical.\n",
    "\n",
    "\n"
   ]
  },
  {
   "cell_type": "markdown",
   "metadata": {},
   "source": [
    "## Prewitt Operator\n",
    "\n",
    "Se emplea en algoritmos como el de detección de bordes, técnicamente es un operador de diferenciación discreta. Es decir se basa en el resultado de restar f(x-b)-f(x+a). \n"
   ]
  },
  {
   "cell_type": "code",
   "execution_count": 4,
   "metadata": {},
   "outputs": [
    {
     "name": "stdout",
     "output_type": "stream",
     "text": [
      "3.1.0\n",
      "Just sleep 1 hour\n"
     ]
    }
   ],
   "source": [
    "import cv2\n",
    "print cv2.__version__\n",
    "\n",
    "print \"Just sleep 1 hour\""
   ]
  }
 ],
 "metadata": {
  "kernelspec": {
   "display_name": "Python 2",
   "language": "python",
   "name": "python2"
  },
  "language_info": {
   "codemirror_mode": {
    "name": "ipython",
    "version": 2
   },
   "file_extension": ".py",
   "mimetype": "text/x-python",
   "name": "python",
   "nbconvert_exporter": "python",
   "pygments_lexer": "ipython2",
   "version": "2.7.13"
  }
 },
 "nbformat": 4,
 "nbformat_minor": 2
}
