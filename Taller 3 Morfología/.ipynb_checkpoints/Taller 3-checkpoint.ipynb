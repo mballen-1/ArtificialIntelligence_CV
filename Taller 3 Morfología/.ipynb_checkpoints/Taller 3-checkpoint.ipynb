{
 "cells": [
  {
   "cell_type": "markdown",
   "metadata": {},
   "source": [
    "# Morfología matemática: Algoritmo de adelgazamiento\n",
    "\n",
    "El algoritmo de adelgazamiento consiste en el uso de la función: \n",
    "\n",
    "### thin(I,J) := I - hit_miss(I,j)\n",
    "\n",
    "Dónde I corresponde a la imagen original y J el elemento estructurante. Y dónde hit_miss hace referencia a la transformada Hit or Miss...\n",
    "\n",
    "### Transformada Hit or miss\n",
    "\n",
    "Consiste en el uso de determinado kernel of elemento estructurante que se pasa sobre la imagen original para determinar si la imagen(Binaria) cumple exactamente con el patrón determinado por el elemento estructurante. Si se cumple para un pixel (i,j) entonces este pixel aparecerá en la imagen resultante. De lo contrario este pixel se eliminará. \n",
    "\n",
    "\n"
   ]
  },
  {
   "cell_type": "code",
   "execution_count": 1,
   "metadata": {
    "collapsed": true
   },
   "outputs": [],
   "source": [
    "import cv2\n",
    "import numpy as np"
   ]
  },
  {
   "cell_type": "code",
   "execution_count": null,
   "metadata": {
    "collapsed": true
   },
   "outputs": [],
   "source": [
    "#Definimos en las variables los elementos estructurantes proporcionados por OpenCV\n",
    "\n",
    "rect = cv2.MORPH_RECT((3,3), (3,1))\n",
    "elip = cv2.MORPH_ELLIPSE((3,3), (3,3))\n",
    "cros = cv2.MORPH_CROSS((3,3), (3,1))\n",
    "\n",
    "\n",
    "\n",
    "\n"
   ]
  }
 ],
 "metadata": {
  "kernelspec": {
   "display_name": "Python 2",
   "language": "python",
   "name": "python2"
  },
  "language_info": {
   "codemirror_mode": {
    "name": "ipython",
    "version": 2
   },
   "file_extension": ".py",
   "mimetype": "text/x-python",
   "name": "python",
   "nbconvert_exporter": "python",
   "pygments_lexer": "ipython2",
   "version": "2.7.13"
  }
 },
 "nbformat": 4,
 "nbformat_minor": 2
}
