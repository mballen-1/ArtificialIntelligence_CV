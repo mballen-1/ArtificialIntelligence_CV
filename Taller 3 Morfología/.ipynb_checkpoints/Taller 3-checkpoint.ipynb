{
 "cells": [
  {
   "cell_type": "markdown",
   "metadata": {},
   "source": [
    "# Morfología matemática: Algoritmo de adelgazamiento\n",
    "\n",
    "El algoritmo de adelgazamiento consiste en el uso de la función: \n",
    "\n",
    "### thin(I,J) := I - hit_miss(I,j)\n",
    "\n",
    "Dónde I corresponde a la imagen original y J el elemento estructurante. Y dónde hit_miss hace referencia a la transformada Hit or Miss...\n",
    "\n",
    "### Transformada Hit or miss\n",
    "\n",
    "Consiste en el uso de determinado kernel of elemento estructurante que se pasa sobre la imagen original para determinar si la imagen(Binaria) cumple exactamente con el patrón determinado por el elemento estructurante. Si se cumple para un pixel (i,j) entonces este pixel aparecerá en la imagen resultante. De lo contrario este pixel se eliminará. \n",
    "\n",
    "\n"
   ]
  },
  {
   "cell_type": "code",
   "execution_count": 50,
   "metadata": {
    "collapsed": true
   },
   "outputs": [],
   "source": [
    "import cv2\n",
    "import numpy as np\n",
    "from matplotlib import pyplot as plt\n",
    "%matplotlib inline"
   ]
  },
  {
   "cell_type": "markdown",
   "metadata": {},
   "source": [
    "## Esqueleto"
   ]
  },
  {
   "cell_type": "code",
   "execution_count": 105,
   "metadata": {},
   "outputs": [],
   "source": [
    "def iteracion_esqueleto(img,kernel,it):\n",
    "    erocion = cv2.morphologyEx(img, cv2.MORPH_ERODE, kernel, iterations= it)\n",
    "    return erocion - cv2.morphologyEx(erocion,cv2.MORPH_OPEN, kernel, iterations= it)\n",
    "\n",
    "def esqueleto(img,kernel):\n",
    "    ans = np.zeros(img.shape)    \n",
    "    it = 1\n",
    "    while True:\n",
    "        aux = iteracion_esqueleto(img,kernel,it)\n",
    "        #plt.imshow(aux, cmap='gray')\n",
    "        #plt.show()\n",
    "        \n",
    "        if (aux == 0).all():\n",
    "            return ans\n",
    "        \n",
    "        ans = ans + aux\n",
    "        it += 1"
   ]
  },
  {
   "cell_type": "code",
   "execution_count": 110,
   "metadata": {},
   "outputs": [
    {
     "data": {
      "image/png": "[encoded data removed]",
      "text/plain": [
       "<matplotlib.figure.Figure at 0xd538048>"
      ]
     },
     "metadata": {},
     "output_type": "display_data"
    }
   ],
   "source": [
    "img = cv2.imread('./img.png',0)\n",
    "kernel = np.array([[1,1,1],[1,1,1],[1,1,1]], np.uint8)\n",
    "\n",
    "ans = esqueleto(img,kernel)\n",
    "\n",
    "f, sub = plt.subplots(1,2)\n",
    "f.set_size_inches(10,4)\n",
    "\n",
    "sub[0].imshow(img, cmap='gray')\n",
    "sub[1].imshow(ans, cmap='gray')\n",
    "\n",
    "plt.show()\n"
   ]
  }
 ],
 "metadata": {
  "kernelspec": {
   "display_name": "Python 2",
   "language": "python",
   "name": "python2"
  },
  "language_info": {
   "codemirror_mode": {
    "name": "ipython",
    "version": 2
   },
   "file_extension": ".py",
   "mimetype": "text/x-python",
   "name": "python",
   "nbconvert_exporter": "python",
   "pygments_lexer": "ipython2",
   "version": "2.7.13"
  }
 },
 "nbformat": 4,
 "nbformat_minor": 2
}
