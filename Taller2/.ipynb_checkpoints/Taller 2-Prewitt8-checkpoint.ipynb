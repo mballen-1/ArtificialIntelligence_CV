{
 "cells": [
  {
   "cell_type": "markdown",
   "metadata": {},
   "source": [
    "# El filtro de Prewitt.\n",
    "\n",
    "Es un filtro que emplea matríces o máscaras dependiendo la función gradiente (derivada) con el fin de operar la imagen original en diversas direcciones y obtener sus bordes.\n",
    "\n",
    "## Filtro de dos direcciones\n",
    "Emplea dos matrices cada una representando las aproximaciones de derivadas en las direcciones vertical y horizontal.\n",
    "\n",
    "Es decir, sea Gx = [[1, 0, -1], [1, 0 , -1], [1, 0, -1]] * A ... La operación que aplica el filtro en dirección horizontal.\n",
    "Y, sea Hx = [[-1, -1, -1], [0, 0 , 0], [1, 1, 1]] * A ... La operación que aplica el filtro en dirección vertical.\n",
    "\n",
    "Dónde A es la imagen original.\n"
   ]
  },
  {
   "cell_type": "markdown",
   "metadata": {},
   "source": [
    "## Prewitt Operator\n",
    "\n",
    "Se emplea en algoritmos como el de detección de bordes, técnicamente es un operador de diferenciación discreta. Es decir se basa en el resultado de restar f(x-b)-f(x+a). \n"
   ]
  },
  {
   "cell_type": "code",
   "execution_count": 2,
   "metadata": {},
   "outputs": [
    {
     "name": "stdout",
     "output_type": "stream",
     "text": [
      "Using OpenCv version: 3.1.0\n",
      "Just sleep 1 hour\n"
     ]
    }
   ],
   "source": [
    "import cv2\n",
    "\n",
    "img = cv2.imread('prewitt1.jpg',0)\n",
    "cv2.imshow('image',img)\n",
    "cv2.waitKey(0)\n",
    "cv2.destroyAllWindows()\n",
    "\n",
    "\n",
    "ans_hor = []\n",
    "ans_ver = [] #Matrices donde almacenaremos las respuestas\n",
    "hor_mask = [[1, 0, -1][1, 0, -1][1, 0, -1]]\n",
    "ver_mask = [[-1,-1,-1][0,0,0][1,1,1]]\n",
    "\n",
    "\n",
    "def conv_hor(k, l, mask):#Definimos la operación con el kernel horizontal\n",
    "    return -A[k][l-1]+A[k][l+1]-A[k+1][l-1]+A[k+1][l+1]-A[k-1][l-1]+A[k-1][l+1] \n",
    "\n",
    "def conv_ver(k, l, mask):#Definimos la operación con el kernel horizontal\n",
    "    return -A[k][l-1]+A[k][l+1]-A[k+1][l-1]+A[k+1][l+1]-A[k-1][l-1]+A[k-1][l+1] \n",
    "\n",
    "\n",
    "\n",
    "def proc(mask, A, i, j):\n",
    "    \n",
    "    max_f = A.shape()[0]\n",
    "    max_c = A.shape()[1]\n",
    "    value = 0\n",
    "    \n",
    "    for k in xrange(3, max_f-3):\n",
    "        for l in xrange(3, max_c-3):\n",
    "            ans_hor[k][l] = conv_hor(k,l, mask)\n",
    "    \n",
    "\n",
    "\n"
   ]
  }
 ],
 "metadata": {
  "kernelspec": {
   "display_name": "Python 2",
   "language": "python",
   "name": "python2"
  },
  "language_info": {
   "codemirror_mode": {
    "name": "ipython",
    "version": 2
   },
   "file_extension": ".py",
   "mimetype": "text/x-python",
   "name": "python",
   "nbconvert_exporter": "python",
   "pygments_lexer": "ipython2",
   "version": "2.7.13"
  }
 },
 "nbformat": 4,
 "nbformat_minor": 2
}
